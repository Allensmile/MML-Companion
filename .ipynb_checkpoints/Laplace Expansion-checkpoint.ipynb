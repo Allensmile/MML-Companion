{
 "cells": [
  {
   "cell_type": "markdown",
   "metadata": {
    "button": false,
    "deletable": true,
    "new_sheet": false,
    "run_control": {
     "read_only": false
    }
   },
   "source": [
    "# work in progress for a general laplace expansion"
   ]
  },
  {
   "cell_type": "code",
   "execution_count": 3,
   "metadata": {
    "button": false,
    "collapsed": true,
    "deletable": true,
    "new_sheet": false,
    "run_control": {
     "read_only": false
    }
   },
   "outputs": [],
   "source": [
    "import numpy as np\n",
    "import numpy.linalg as npl\n",
    "import matplotlib.pyplot as plt\n",
    "import itertools as it\n",
    "from matplotlib.pyplot import figure\n",
    "from sympy import *\n",
    "from sympy.abc import x\n",
    "from IPython.core.interactiveshell import InteractiveShell\n",
    "from mpl_toolkits.mplot3d import Axes3D\n",
    "from matplotlib import cm\n",
    "import random"
   ]
  },
  {
   "cell_type": "code",
   "execution_count": 18,
   "metadata": {
    "button": false,
    "collapsed": true,
    "deletable": true,
    "new_sheet": false,
    "run_control": {
     "read_only": false
    }
   },
   "outputs": [],
   "source": [
    "InteractiveShell.ast_node_interactivity = \"all\"\n"
   ]
  },
  {
   "cell_type": "markdown",
   "metadata": {
    "button": false,
    "deletable": true,
    "new_sheet": false,
    "run_control": {
     "read_only": false
    }
   },
   "source": [
    "Generalizing the above function for any $n\\times n$ matrix, we get the following."
   ]
  },
  {
   "cell_type": "code",
   "execution_count": 115,
   "metadata": {
    "button": false,
    "collapsed": true,
    "deletable": true,
    "new_sheet": false,
    "run_control": {
     "read_only": false
    }
   },
   "outputs": [],
   "source": [
    "def expand(matrix):\n",
    "    n = np.shape(matrix)\n",
    "    assert n[0] == n[1] # Must be a square matrix and of size greater than 2.\n",
    "    assert n[0] > 2 \n",
    "    j = 0 # Arbitrarily expanding along the first *(row or column).\n",
    "    minors = []\n",
    "    consts = []\n",
    "    for k in list(range(n[0])):\n",
    "        temp = np.delete(matrix,j,0) # *Row.\n",
    "        temp = np.delete(temp,k,1)\n",
    "        minors.append(temp)\n",
    "        consts.append((-1)**(j+k)*matrix[j][k])\n",
    "\n",
    "    return minors, consts\n",
    "\n",
    "def laplace(matrix):\n",
    "    '''\n",
    "    This is a rough implementation of the laplace expanion \n",
    "    in part because there is no optimization for expanding \n",
    "    along a row or column with the lowest value entries.\n",
    "    \n",
    "    0. Check square and n >= 3.\n",
    "    2. While the shape of the first matrix in the expansion is not 2, proceed.\n",
    "    1. Expand matrix.\n",
    "    3. For every matrix in the expansion, expand.\n",
    "    4. Store the newly expanded matrices at the beginning of expansions.\n",
    "    5. Check expansions again.\n",
    "    '''\n",
    "    n = np.shape(matrix)\n",
    "    assert n[0] == n[1] # 0. Check square and n >= 3. \n",
    "    assert n[0] >= 3    \n",
    "    \n",
    "    newExpanse,consts = expand(matrix)\n",
    "    allMinors = []\n",
    "    allConsts = []\n",
    "    allMinors += newExpanse\n",
    "    allConsts += consts\n",
    "    n = np.shape(newExpanse[0])\n",
    "    \n",
    "    while n[0] != 2:\n",
    "        temp = []\n",
    "        for i in newExpanse:\n",
    "            nE = expand(i)\n",
    "            temp += nE[0]\n",
    "            allConsts += nE[1]\n",
    "        newExpanse = temp.copy()\n",
    "        n = np.shape(newExpanse[0])\n",
    "        allMinors += newExpanse\n",
    "    return allMinors,allConsts\n",
    "\n",
    "# np.sum(g[1][:n] @ np.vstack(np.split(np.array([twoDet(i)*g[1][n:][ind] for ind,i in enumerate(g[0][n:])]),n)))"
   ]
  },
  {
   "cell_type": "code",
   "execution_count": 124,
   "metadata": {
    "button": false,
    "collapsed": false,
    "deletable": true,
    "new_sheet": false,
    "run_control": {
     "read_only": false
    }
   },
   "outputs": [
    {
     "data": {
      "text/latex": [
       "$\\displaystyle \\left[\\begin{matrix}1 & 2 & 5 & -3 & -2\\\\2 & 3 & 2 & 3 & 1\\\\1 & 1 & 3 & -2 & 0\\\\1 & -1 & 6 & 4 & 0\\\\1 & 2 & 1 & 1 & 4\\end{matrix}\\right]$"
      ],
      "text/plain": [
       "Matrix([\n",
       "[1,  2, 5, -3, -2],\n",
       "[2,  3, 2,  3,  1],\n",
       "[1,  1, 3, -2,  0],\n",
       "[1, -1, 6,  4,  0],\n",
       "[1,  2, 1,  1,  4]])"
      ]
     },
     "execution_count": 124,
     "metadata": {},
     "output_type": "execute_result"
    }
   ],
   "source": [
    "# A = np.vstack([[1,2,3],[3,1,2],[0,0,1]])\n",
    "# A = np.vstack([[1,2,3,2],[3,1,2,2],[0,0,1,2],[3,0,0,2]])\n",
    "A = np.vstack([[1, 2,5,-3,-2],[2,3,2,3,1],[1, 1,3,-2,0],[1, -1,6,4,0],[1,2,1,1,4]])\n",
    "Matrix(A)"
   ]
  },
  {
   "cell_type": "code",
   "execution_count": 125,
   "metadata": {
    "button": false,
    "collapsed": false,
    "deletable": true,
    "new_sheet": false,
    "run_control": {
     "read_only": false
    }
   },
   "outputs": [
    {
     "data": {
      "text/plain": [
       "-316.00000000000006"
      ]
     },
     "execution_count": 125,
     "metadata": {},
     "output_type": "execute_result"
    }
   ],
   "source": [
    "npl.det(A)"
   ]
  },
  {
   "cell_type": "code",
   "execution_count": 126,
   "metadata": {
    "button": false,
    "collapsed": true,
    "deletable": true,
    "new_sheet": false,
    "run_control": {
     "read_only": false
    }
   },
   "outputs": [],
   "source": [
    "g = laplace(A)"
   ]
  },
  {
   "cell_type": "code",
   "execution_count": 127,
   "metadata": {
    "button": false,
    "collapsed": false,
    "deletable": true,
    "new_sheet": false,
    "run_control": {
     "read_only": false
    }
   },
   "outputs": [
    {
     "data": {
      "text/plain": [
       "[5, 20, 60]"
      ]
     },
     "execution_count": 127,
     "metadata": {},
     "output_type": "execute_result"
    }
   ],
   "source": [
    "maxNum = max([np.shape(i)[0] for i in g[0]])\n",
    "parts = [np.shape([i for i in g[0] if np.shape(i)[0] == j])[0] for j in np.arange(2,maxNum+1)[::-1]]\n",
    "parts"
   ]
  },
  {
   "cell_type": "code",
   "execution_count": 128,
   "metadata": {
    "button": false,
    "collapsed": false,
    "deletable": true,
    "new_sheet": false,
    "run_control": {
     "read_only": false
    }
   },
   "outputs": [
    {
     "data": {
      "text/plain": [
       "[array([[ 3,  2,  3,  1],\n",
       "        [ 1,  3, -2,  0],\n",
       "        [-1,  6,  4,  0],\n",
       "        [ 2,  1,  1,  4]]), array([[ 2,  2,  3,  1],\n",
       "        [ 1,  3, -2,  0],\n",
       "        [ 1,  6,  4,  0],\n",
       "        [ 1,  1,  1,  4]]), array([[ 2,  3,  3,  1],\n",
       "        [ 1,  1, -2,  0],\n",
       "        [ 1, -1,  4,  0],\n",
       "        [ 1,  2,  1,  4]]), array([[ 2,  3,  2,  1],\n",
       "        [ 1,  1,  3,  0],\n",
       "        [ 1, -1,  6,  0],\n",
       "        [ 1,  2,  1,  4]]), array([[ 2,  3,  2,  3],\n",
       "        [ 1,  1,  3, -2],\n",
       "        [ 1, -1,  6,  4],\n",
       "        [ 1,  2,  1,  1]])]"
      ]
     },
     "execution_count": 128,
     "metadata": {},
     "output_type": "execute_result"
    },
    {
     "data": {
      "text/plain": [
       "[array([[ 3, -2,  0],\n",
       "        [ 6,  4,  0],\n",
       "        [ 1,  1,  4]]), array([[ 1, -2,  0],\n",
       "        [-1,  4,  0],\n",
       "        [ 2,  1,  4]]), array([[ 1,  3,  0],\n",
       "        [-1,  6,  0],\n",
       "        [ 2,  1,  4]]), array([[ 1,  3, -2],\n",
       "        [-1,  6,  4],\n",
       "        [ 2,  1,  1]]), array([[ 3, -2,  0],\n",
       "        [ 6,  4,  0],\n",
       "        [ 1,  1,  4]]), array([[ 1, -2,  0],\n",
       "        [ 1,  4,  0],\n",
       "        [ 1,  1,  4]]), array([[1, 3, 0],\n",
       "        [1, 6, 0],\n",
       "        [1, 1, 4]]), array([[ 1,  3, -2],\n",
       "        [ 1,  6,  4],\n",
       "        [ 1,  1,  1]]), array([[ 1, -2,  0],\n",
       "        [-1,  4,  0],\n",
       "        [ 2,  1,  4]]), array([[ 1, -2,  0],\n",
       "        [ 1,  4,  0],\n",
       "        [ 1,  1,  4]]), array([[ 1,  1,  0],\n",
       "        [ 1, -1,  0],\n",
       "        [ 1,  2,  4]]), array([[ 1,  1, -2],\n",
       "        [ 1, -1,  4],\n",
       "        [ 1,  2,  1]]), array([[ 1,  3,  0],\n",
       "        [-1,  6,  0],\n",
       "        [ 2,  1,  4]]), array([[1, 3, 0],\n",
       "        [1, 6, 0],\n",
       "        [1, 1, 4]]), array([[ 1,  1,  0],\n",
       "        [ 1, -1,  0],\n",
       "        [ 1,  2,  4]]), array([[ 1,  1,  3],\n",
       "        [ 1, -1,  6],\n",
       "        [ 1,  2,  1]]), array([[ 1,  3, -2],\n",
       "        [-1,  6,  4],\n",
       "        [ 2,  1,  1]]), array([[ 1,  3, -2],\n",
       "        [ 1,  6,  4],\n",
       "        [ 1,  1,  1]]), array([[ 1,  1, -2],\n",
       "        [ 1, -1,  4],\n",
       "        [ 1,  2,  1]]), array([[ 1,  1,  3],\n",
       "        [ 1, -1,  6],\n",
       "        [ 1,  2,  1]])]"
      ]
     },
     "execution_count": 128,
     "metadata": {},
     "output_type": "execute_result"
    },
    {
     "data": {
      "text/plain": [
       "[16,\n",
       " 24,\n",
       " 2,\n",
       " 16,\n",
       " -4,\n",
       " -9,\n",
       " 24,\n",
       " -4,\n",
       " -13,\n",
       " 2,\n",
       " -9,\n",
       " -13,\n",
       " 16,\n",
       " 24,\n",
       " 2,\n",
       " 16,\n",
       " 4,\n",
       " -3,\n",
       " 24,\n",
       " 4,\n",
       " -5,\n",
       " 2,\n",
       " -3,\n",
       " -5,\n",
       " 16,\n",
       " -4,\n",
       " -9,\n",
       " 16,\n",
       " 4,\n",
       " -3,\n",
       " -4,\n",
       " 4,\n",
       " 3,\n",
       " -9,\n",
       " -3,\n",
       " 3,\n",
       " 24,\n",
       " -4,\n",
       " -13,\n",
       " 24,\n",
       " 4,\n",
       " -5,\n",
       " -4,\n",
       " 4,\n",
       " 3,\n",
       " -13,\n",
       " -5,\n",
       " 3,\n",
       " 2,\n",
       " -9,\n",
       " -13,\n",
       " 2,\n",
       " -3,\n",
       " -5,\n",
       " -9,\n",
       " -3,\n",
       " 3,\n",
       " -13,\n",
       " -5,\n",
       " 3]"
      ]
     },
     "execution_count": 128,
     "metadata": {},
     "output_type": "execute_result"
    }
   ],
   "source": [
    "g[0][:5]\n",
    "g[0][5:25]\n",
    "[twoDet(i) for i in g[0][25:85]]"
   ]
  },
  {
   "cell_type": "code",
   "execution_count": 129,
   "metadata": {
    "button": false,
    "collapsed": true,
    "deletable": true,
    "new_sheet": false,
    "run_control": {
     "read_only": false
    }
   },
   "outputs": [],
   "source": [
    "twoDet = lambda A: A[0][0]*A[1][1] - A[0][1]*A[1][0]# Implementation of \"a_{11}a_{22} - a_{12}a_{21}\"."
   ]
  },
  {
   "cell_type": "code",
   "execution_count": 130,
   "metadata": {
    "button": false,
    "collapsed": true,
    "deletable": true,
    "new_sheet": false,
    "run_control": {
     "read_only": false
    }
   },
   "outputs": [],
   "source": [
    "a = np.array(g[1][:5])\n",
    "b = np.split(np.array(g[1][5:25]),5)\n",
    "c = np.split(np.ravel(g[1][25:85] * np.array([twoDet(i) for i in g[0][25:85]])),5)"
   ]
  },
  {
   "cell_type": "code",
   "execution_count": null,
   "metadata": {
    "button": false,
    "collapsed": true,
    "deletable": true,
    "new_sheet": false,
    "run_control": {
     "read_only": false
    }
   },
   "outputs": [],
   "source": []
  },
  {
   "cell_type": "code",
   "execution_count": 136,
   "metadata": {
    "button": false,
    "collapsed": false,
    "deletable": true,
    "new_sheet": false,
    "run_control": {
     "read_only": false
    }
   },
   "outputs": [
    {
     "data": {
      "text/plain": [
       "array([ 1, -2,  5,  3, -2])"
      ]
     },
     "execution_count": 136,
     "metadata": {},
     "output_type": "execute_result"
    },
    {
     "data": {
      "text/plain": [
       "[array([ 3, -2,  3, -1]),\n",
       " array([ 2, -2,  3, -1]),\n",
       " array([ 2, -3,  3, -1]),\n",
       " array([ 2, -3,  2, -1]),\n",
       " array([ 2, -3,  2, -3])]"
      ]
     },
     "execution_count": 136,
     "metadata": {},
     "output_type": "execute_result"
    },
    {
     "data": {
      "text/plain": [
       "[195, -306, 60, 123, -130]"
      ]
     },
     "execution_count": 136,
     "metadata": {},
     "output_type": "execute_result"
    },
    {
     "data": {
      "text/plain": [
       "814"
      ]
     },
     "execution_count": 136,
     "metadata": {},
     "output_type": "execute_result"
    }
   ],
   "source": [
    "a\n",
    "b\n",
    "d = [sum(np.array([sum(i) for i in np.split(c[0],4)]))*a[0],\n",
    "sum(np.array([sum(i) for i in np.split(c[1],4)]))*a[1],\n",
    "sum(np.array([sum(i) for i in np.split(c[2],4)]))*a[2],\n",
    "sum(np.array([sum(i) for i in np.split(c[3],4)]))*a[3],\n",
    "sum(np.array([sum(i) for i in np.split(c[4],4)]))*a[4]]\n",
    "d\n",
    "sum([abs(i) for i in d])"
   ]
  },
  {
   "cell_type": "code",
   "execution_count": 114,
   "metadata": {
    "button": false,
    "collapsed": false,
    "deletable": true,
    "new_sheet": false,
    "run_control": {
     "read_only": false
    }
   },
   "outputs": [
    {
     "data": {
      "text/plain": [
       "316"
      ]
     },
     "execution_count": 114,
     "metadata": {},
     "output_type": "execute_result"
    }
   ],
   "source": [
    "66+108+42+100"
   ]
  },
  {
   "cell_type": "code",
   "execution_count": 175,
   "metadata": {
    "button": false,
    "collapsed": false,
    "deletable": true,
    "new_sheet": false,
    "run_control": {
     "read_only": false
    }
   },
   "outputs": [
    {
     "data": {
      "text/plain": [
       "-316.00000000000006"
      ]
     },
     "execution_count": 175,
     "metadata": {},
     "output_type": "execute_result"
    }
   ],
   "source": [
    "A = np.vstack([[1, 2,5,-3,-2],[2,3,2,3,1],[1, 1,3,-2,0],[1, -1,6,4,0],[1,2,1,1,4]])\n",
    "npl.det(A)"
   ]
  },
  {
   "cell_type": "code",
   "execution_count": 157,
   "metadata": {
    "button": false,
    "collapsed": true,
    "deletable": true,
    "new_sheet": false,
    "run_control": {
     "read_only": false
    }
   },
   "outputs": [],
   "source": [
    "def laplace(A):\n",
    "    return expand(A)"
   ]
  },
  {
   "cell_type": "code",
   "execution_count": 174,
   "metadata": {
    "button": false,
    "collapsed": false,
    "deletable": true,
    "new_sheet": false,
    "run_control": {
     "read_only": false
    }
   },
   "outputs": [
    {
     "data": {
      "text/plain": [
       "[([array([[ 3, -2,  0],\n",
       "          [ 6,  4,  0],\n",
       "          [ 1,  1,  4]]), array([[ 1, -2,  0],\n",
       "          [-1,  4,  0],\n",
       "          [ 2,  1,  4]]), array([[ 1,  3,  0],\n",
       "          [-1,  6,  0],\n",
       "          [ 2,  1,  4]]), array([[ 1,  3, -2],\n",
       "          [-1,  6,  4],\n",
       "          [ 2,  1,  1]])], [3, -2, 3, -1]), ([array([[ 3, -2,  0],\n",
       "          [ 6,  4,  0],\n",
       "          [ 1,  1,  4]]), array([[ 1, -2,  0],\n",
       "          [ 1,  4,  0],\n",
       "          [ 1,  1,  4]]), array([[1, 3, 0],\n",
       "          [1, 6, 0],\n",
       "          [1, 1, 4]]), array([[ 1,  3, -2],\n",
       "          [ 1,  6,  4],\n",
       "          [ 1,  1,  1]])], [2, -2, 3, -1]), ([array([[ 1, -2,  0],\n",
       "          [-1,  4,  0],\n",
       "          [ 2,  1,  4]]), array([[ 1, -2,  0],\n",
       "          [ 1,  4,  0],\n",
       "          [ 1,  1,  4]]), array([[ 1,  1,  0],\n",
       "          [ 1, -1,  0],\n",
       "          [ 1,  2,  4]]), array([[ 1,  1, -2],\n",
       "          [ 1, -1,  4],\n",
       "          [ 1,  2,  1]])], [2, -3, 3, -1]), ([array([[ 1,  3,  0],\n",
       "          [-1,  6,  0],\n",
       "          [ 2,  1,  4]]), array([[1, 3, 0],\n",
       "          [1, 6, 0],\n",
       "          [1, 1, 4]]), array([[ 1,  1,  0],\n",
       "          [ 1, -1,  0],\n",
       "          [ 1,  2,  4]]), array([[ 1,  1,  3],\n",
       "          [ 1, -1,  6],\n",
       "          [ 1,  2,  1]])], [2, -3, 2, -1]), ([array([[ 1,  3, -2],\n",
       "          [-1,  6,  4],\n",
       "          [ 2,  1,  1]]), array([[ 1,  3, -2],\n",
       "          [ 1,  6,  4],\n",
       "          [ 1,  1,  1]]), array([[ 1,  1, -2],\n",
       "          [ 1, -1,  4],\n",
       "          [ 1,  2,  1]]), array([[ 1,  1,  3],\n",
       "          [ 1, -1,  6],\n",
       "          [ 1,  2,  1]])], [2, -3, 2, -3])]"
      ]
     },
     "execution_count": 174,
     "metadata": {},
     "output_type": "execute_result"
    }
   ],
   "source": [
    "[expand(i) for i in expand(A)[0]]"
   ]
  },
  {
   "cell_type": "code",
   "execution_count": 153,
   "metadata": {
    "button": false,
    "collapsed": true,
    "deletable": true,
    "new_sheet": false,
    "run_control": {
     "read_only": false
    }
   },
   "outputs": [],
   "source": [
    "def crunchLaplace(lap1,lap2):\n",
    "    twos = [twoDet(i) for i in lap1 if np.shape(i)[0]==2]\n",
    "    \n",
    "    return lap1"
   ]
  },
  {
   "cell_type": "code",
   "execution_count": 155,
   "metadata": {
    "button": false,
    "collapsed": false,
    "deletable": true,
    "new_sheet": false,
    "run_control": {
     "read_only": false
    }
   },
   "outputs": [
    {
     "data": {
      "text/plain": [
       "[array([[1, 2],\n",
       "        [0, 1]]), array([[3, 2],\n",
       "        [0, 1]]), array([[3, 1],\n",
       "        [0, 0]])]"
      ]
     },
     "execution_count": 155,
     "metadata": {},
     "output_type": "execute_result"
    }
   ],
   "source": [
    "l1,l2 = laplace(A)\n",
    "h = crunchLaplace(l1,l2)\n",
    "h"
   ]
  },
  {
   "cell_type": "code",
   "execution_count": 152,
   "metadata": {
    "button": false,
    "collapsed": false,
    "deletable": true,
    "new_sheet": false,
    "run_control": {
     "read_only": false
    }
   },
   "outputs": [
    {
     "data": {
      "text/plain": [
       "[array([[1, 2],\n",
       "        [0, 1]]), array([[3, 2],\n",
       "        [0, 1]]), array([[3, 1],\n",
       "        [0, 0]])]"
      ]
     },
     "execution_count": 152,
     "metadata": {},
     "output_type": "execute_result"
    },
    {
     "data": {
      "text/plain": [
       "[1, -2, 3]"
      ]
     },
     "execution_count": 152,
     "metadata": {},
     "output_type": "execute_result"
    },
    {
     "data": {
      "text/plain": [
       "[1, 3, 0]"
      ]
     },
     "execution_count": 152,
     "metadata": {},
     "output_type": "execute_result"
    },
    {
     "data": {
      "text/plain": [
       "-5"
      ]
     },
     "execution_count": 152,
     "metadata": {},
     "output_type": "execute_result"
    }
   ],
   "source": [
    "laplace(A)[0]\n",
    "laplace(A)[1]\n",
    "[twoDet(i) for i in laplace(A)[0]]\n",
    "sum(np.array([twoDet(i) for i in laplace(A)[0][:]])*laplace(A)[1])"
   ]
  },
  {
   "cell_type": "code",
   "execution_count": null,
   "metadata": {
    "button": false,
    "collapsed": true,
    "deletable": true,
    "new_sheet": false,
    "run_control": {
     "read_only": false
    }
   },
   "outputs": [],
   "source": []
  }
 ],
 "metadata": {
  "kernelspec": {
   "display_name": "Python 3",
   "language": "python",
   "name": "python3"
  },
  "language_info": {
   "codemirror_mode": {
    "name": "ipython",
    "version": 3
   },
   "file_extension": ".py",
   "mimetype": "text/x-python",
   "name": "python",
   "nbconvert_exporter": "python",
   "pygments_lexer": "ipython3",
   "version": "3.5.0"
  }
 },
 "nbformat": 4,
 "nbformat_minor": 2
}
